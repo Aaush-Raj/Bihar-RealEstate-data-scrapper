{
 "cells": [
  {
   "cell_type": "code",
   "execution_count": 8,
   "id": "78be59ac",
   "metadata": {},
   "outputs": [],
   "source": [
    "import os\n",
    "import time\n",
    "import pandas as pd\n",
    "from bs4 import BeautifulSoup, Tag\n",
    "from datetime import datetime\n",
    "from pytz import timezone\n",
    "from selenium import webdriver\n",
    "from selenium.common import exceptions\n",
    "from selenium.webdriver.common.by import By\n",
    "from selenium.webdriver.common.keys import Keys\n",
    "from selenium.webdriver.support.ui import WebDriverWait\n",
    "from selenium.webdriver.support import expected_conditions as EC\n",
    "from selenium.webdriver.chrome.service import Service\n",
    "from typing import Dict, Union\n",
    "from urllib import request\n",
    "from webdriver_manager.chrome import ChromeDriverManager\n",
    "from selenium.common.exceptions import ElementClickInterceptedException"
   ]
  },
  {
   "cell_type": "code",
   "execution_count": 9,
   "id": "44290746",
   "metadata": {},
   "outputs": [],
   "source": [
    "def launch_driver(driver_path: str):\n",
    "    options = webdriver.ChromeOptions()\n",
    "    options.add_argument('no-sandbox')\n",
    "    options.add_argument('--ignore-certificate-errors')\n",
    "    # Set screen size to 1080p\n",
    "    options.add_argument('--window-size=1920,1080')\n",
    "    options.add_experimental_option(\n",
    "        'excludeSwitches', ['enable-logging'])\n",
    "    options.headless = False\n",
    "    service = Service(driver_path)\n",
    "    driver = webdriver.Chrome(service=service, options=options)\n",
    "    return driver"
   ]
  },
  {
   "cell_type": "code",
   "execution_count": 10,
   "id": "6ba22cbc",
   "metadata": {
    "scrolled": true
   },
   "outputs": [
    {
     "name": "stderr",
     "output_type": "stream",
     "text": [
      "\n",
      "\n",
      "====== WebDriver manager ======\n",
      "Current google-chrome version is 101.0.4951\n",
      "Get LATEST chromedriver version for 101.0.4951 google-chrome\n",
      "Driver [C:\\Users\\HP\\OneDrive\\Desktop\\Bihar_web_Scrapper\\drivers\\chromedriver\\win32\\101.0.4951.41\\chromedriver.exe] found in cache\n"
     ]
    }
   ],
   "source": [
    "path = ChromeDriverManager(path=os.getcwd()).install()"
   ]
  },
  {
   "cell_type": "code",
   "execution_count": 11,
   "id": "92947a23",
   "metadata": {},
   "outputs": [],
   "source": [
    "url = \"https://www.eproc.bihar.gov.in\""
   ]
  },
  {
   "cell_type": "code",
   "execution_count": 12,
   "id": "97196a7f",
   "metadata": {},
   "outputs": [],
   "source": [
    "driver = launch_driver(path)"
   ]
  },
  {
   "cell_type": "code",
   "execution_count": 13,
   "id": "ec69f1f9",
   "metadata": {},
   "outputs": [],
   "source": [
    "driver.get(url)"
   ]
  },
  {
   "cell_type": "code",
   "execution_count": 15,
   "id": "1bc1eebf",
   "metadata": {},
   "outputs": [
    {
     "ename": "TimeoutException",
     "evalue": "Message: \nStacktrace:\nBacktrace:\n\tOrdinal0 [0x0039B8F3+2406643]\n\tOrdinal0 [0x0032AF31+1945393]\n\tOrdinal0 [0x0021C748+837448]\n\tOrdinal0 [0x002492E0+1020640]\n\tOrdinal0 [0x0024957B+1021307]\n\tOrdinal0 [0x00276372+1205106]\n\tOrdinal0 [0x002642C4+1131204]\n\tOrdinal0 [0x00274682+1197698]\n\tOrdinal0 [0x00264096+1130646]\n\tOrdinal0 [0x0023E636+976438]\n\tOrdinal0 [0x0023F546+980294]\n\tGetHandleVerifier [0x00609612+2498066]\n\tGetHandleVerifier [0x005FC920+2445600]\n\tGetHandleVerifier [0x00434F2A+579370]\n\tGetHandleVerifier [0x00433D36+574774]\n\tOrdinal0 [0x00331C0B+1973259]\n\tOrdinal0 [0x00336688+1992328]\n\tOrdinal0 [0x00336775+1992565]\n\tOrdinal0 [0x0033F8D1+2029777]\n\tBaseThreadInitThunk [0x76816739+25]\n\tRtlGetFullPathName_UEx [0x77E98AFF+1215]\n\tRtlGetFullPathName_UEx [0x77E98ACD+1165]\n",
     "output_type": "error",
     "traceback": [
      "\u001b[1;31m---------------------------------------------------------------------------\u001b[0m",
      "\u001b[1;31mTimeoutException\u001b[0m                          Traceback (most recent call last)",
      "\u001b[1;32m<ipython-input-15-0115b747e21a>\u001b[0m in \u001b[0;36m<module>\u001b[1;34m\u001b[0m\n\u001b[0;32m      1\u001b[0m \u001b[1;31m# Close the information banner\u001b[0m\u001b[1;33m\u001b[0m\u001b[1;33m\u001b[0m\u001b[1;33m\u001b[0m\u001b[0m\n\u001b[0;32m      2\u001b[0m \u001b[0mclose_btn_class_name\u001b[0m \u001b[1;33m=\u001b[0m \u001b[1;34m'sha-pg010-close'\u001b[0m\u001b[1;33m\u001b[0m\u001b[1;33m\u001b[0m\u001b[0m\n\u001b[1;32m----> 3\u001b[1;33m WebDriverWait(driver, 60).until(\n\u001b[0m\u001b[0;32m      4\u001b[0m         EC.presence_of_element_located((By.CLASS_NAME, close_btn_class_name)))\n\u001b[0;32m      5\u001b[0m \u001b[0mtime\u001b[0m\u001b[1;33m.\u001b[0m\u001b[0msleep\u001b[0m\u001b[1;33m(\u001b[0m\u001b[1;36m2\u001b[0m\u001b[1;33m)\u001b[0m\u001b[1;33m\u001b[0m\u001b[1;33m\u001b[0m\u001b[0m\n",
      "\u001b[1;32mc:\\users\\hp\\desktop\\lib\\site-packages\\selenium\\webdriver\\support\\wait.py\u001b[0m in \u001b[0;36muntil\u001b[1;34m(self, method, message)\u001b[0m\n\u001b[0;32m     87\u001b[0m             \u001b[1;32mif\u001b[0m \u001b[0mtime\u001b[0m\u001b[1;33m.\u001b[0m\u001b[0mmonotonic\u001b[0m\u001b[1;33m(\u001b[0m\u001b[1;33m)\u001b[0m \u001b[1;33m>\u001b[0m \u001b[0mend_time\u001b[0m\u001b[1;33m:\u001b[0m\u001b[1;33m\u001b[0m\u001b[1;33m\u001b[0m\u001b[0m\n\u001b[0;32m     88\u001b[0m                 \u001b[1;32mbreak\u001b[0m\u001b[1;33m\u001b[0m\u001b[1;33m\u001b[0m\u001b[0m\n\u001b[1;32m---> 89\u001b[1;33m         \u001b[1;32mraise\u001b[0m \u001b[0mTimeoutException\u001b[0m\u001b[1;33m(\u001b[0m\u001b[0mmessage\u001b[0m\u001b[1;33m,\u001b[0m \u001b[0mscreen\u001b[0m\u001b[1;33m,\u001b[0m \u001b[0mstacktrace\u001b[0m\u001b[1;33m)\u001b[0m\u001b[1;33m\u001b[0m\u001b[1;33m\u001b[0m\u001b[0m\n\u001b[0m\u001b[0;32m     90\u001b[0m \u001b[1;33m\u001b[0m\u001b[0m\n\u001b[0;32m     91\u001b[0m     \u001b[1;32mdef\u001b[0m \u001b[0muntil_not\u001b[0m\u001b[1;33m(\u001b[0m\u001b[0mself\u001b[0m\u001b[1;33m,\u001b[0m \u001b[0mmethod\u001b[0m\u001b[1;33m,\u001b[0m \u001b[0mmessage\u001b[0m\u001b[1;33m=\u001b[0m\u001b[1;34m''\u001b[0m\u001b[1;33m)\u001b[0m\u001b[1;33m:\u001b[0m\u001b[1;33m\u001b[0m\u001b[1;33m\u001b[0m\u001b[0m\n",
      "\u001b[1;31mTimeoutException\u001b[0m: Message: \nStacktrace:\nBacktrace:\n\tOrdinal0 [0x0039B8F3+2406643]\n\tOrdinal0 [0x0032AF31+1945393]\n\tOrdinal0 [0x0021C748+837448]\n\tOrdinal0 [0x002492E0+1020640]\n\tOrdinal0 [0x0024957B+1021307]\n\tOrdinal0 [0x00276372+1205106]\n\tOrdinal0 [0x002642C4+1131204]\n\tOrdinal0 [0x00274682+1197698]\n\tOrdinal0 [0x00264096+1130646]\n\tOrdinal0 [0x0023E636+976438]\n\tOrdinal0 [0x0023F546+980294]\n\tGetHandleVerifier [0x00609612+2498066]\n\tGetHandleVerifier [0x005FC920+2445600]\n\tGetHandleVerifier [0x00434F2A+579370]\n\tGetHandleVerifier [0x00433D36+574774]\n\tOrdinal0 [0x00331C0B+1973259]\n\tOrdinal0 [0x00336688+1992328]\n\tOrdinal0 [0x00336775+1992565]\n\tOrdinal0 [0x0033F8D1+2029777]\n\tBaseThreadInitThunk [0x76816739+25]\n\tRtlGetFullPathName_UEx [0x77E98AFF+1215]\n\tRtlGetFullPathName_UEx [0x77E98ACD+1165]\n"
     ]
    }
   ],
   "source": [
    "# Close the information banner\n",
    "close_btn_class_name = 'sha-pg010-close'\n",
    "WebDriverWait(driver, 60).until(\n",
    "        EC.presence_of_element_located((By.CLASS_NAME, close_btn_class_name)))\n",
    "time.sleep(2)\n",
    "driver.find_element(By.CLASS_NAME, close_btn_class_name).click()"
   ]
  },
  {
   "cell_type": "code",
   "execution_count": null,
   "id": "faf8b863",
   "metadata": {},
   "outputs": [],
   "source": [
    "# Click on the Tenders link and then switch to the tab\n",
    "# Close the previous tab as we don't need that\n",
    "driver.find_element(By.CLASS_NAME, 'sha-pg001-02-menu-item-title-icon').click()\n",
    "driver.close()\n",
    "driver.switch_to.window(driver.window_handles[-1])"
   ]
  },
  {
   "cell_type": "code",
   "execution_count": null,
   "id": "bc9ee55d",
   "metadata": {},
   "outputs": [],
   "source": [
    "def clean_text(text: str):\n",
    "    text = ' '.join(filter(lambda x: x, text.replace(\n",
    "        '\\n', ' ').replace('\\t', ' ').replace(':', '').split()))\n",
    "    if text == '':\n",
    "        return None\n",
    "    return text.strip()\n",
    "\n",
    "def format_key(text: str):\n",
    "    return clean_text(text).replace('.', '').replace(' ', '_').replace('/', '').replace('₹', 'rs').replace('(', '_').replace(')', '').replace('__', '_').lower().strip()"
   ]
  },
  {
   "cell_type": "code",
   "execution_count": null,
   "id": "27a77627",
   "metadata": {},
   "outputs": [],
   "source": [
    "# Loop through the pages\n",
    "def next_page():\n",
    "    paginate = driver.find_element(By.CLASS_NAME, 'paginationLinks')\n",
    "    page_links = list(filter(lambda x: 'page' in x.get_attribute('class'), paginate.find_elements(By.TAG_NAME, 'a')))\n",
    "    for page_link in page_links:\n",
    "        if page_link.get_attribute('class') == 'page current':\n",
    "            try:\n",
    "                nxt_pg = page_links[page_links.index(page_link) + 1]\n",
    "                driver.execute_script('arguments[0].scrollIntoView();', nxt_pg)\n",
    "                return nxt_pg\n",
    "            except IndexError:\n",
    "                pass"
   ]
  },
  {
   "cell_type": "code",
   "execution_count": null,
   "id": "b0c18ac4",
   "metadata": {},
   "outputs": [],
   "source": [
    "# Loop through the tenders in a page\n",
    "def tender_link():\n",
    "    t_links = driver.find_element(By.ID, 'tblSummary').find_elements(By.CLASS_NAME, 'alink')\n",
    "    try:\n",
    "        link = t_links[link_index]\n",
    "        driver.execute_script('arguments[0].scrollIntoView();', link)\n",
    "        return link\n",
    "    except IndexError:\n",
    "        pass"
   ]
  },
  {
   "cell_type": "code",
   "execution_count": null,
   "id": "a377363a",
   "metadata": {},
   "outputs": [],
   "source": [
    "df = pd.DataFrame()\n",
    "\n",
    "scraped_data = {}\n",
    "while True:\n",
    "    link_index = 0\n",
    "    while tender_link():\n",
    "        main_window = driver.current_window_handle\n",
    "        tender_link().click()\n",
    "        link_index += 1\n",
    "        driver.switch_to.window(driver.window_handles[-1])\n",
    "\n",
    "        # Wait till the tender detail loads up\n",
    "        WebDriverWait(driver, 30).until(EC.presence_of_element_located((By.ID, 'tenderDetail')))\n",
    "        soup = BeautifulSoup(driver.page_source, 'html.parser')\n",
    "        tender_detail = soup.find('table', {'id': 'tenderDetail'})\n",
    "        dept_name = soup.find('div', {'class': 'info'}).find('td').text\n",
    "        data = {'department': dept_name}\n",
    "        is_test_tender = False\n",
    "\n",
    "        # This part scrapes all the tender data as key:value pair\n",
    "        for i in tender_detail.find_all('tr', {'class': 'odd'}):\n",
    "            for j in i.find_all('td', {'class': 'right b'}):\n",
    "                key = format_key(list(filter(lambda x: x is not None and 'class' not in x.attrs, j.find_all('span')))[0].text)\n",
    "                val = clean_text(j.find_next('td').text)\n",
    "                if key == 'cot' and val.lower() == 'test':\n",
    "                    # Add a flag for skipping test tenders\n",
    "                    is_test_tender = True\n",
    "                data[key] = val\n",
    "        \n",
    "        if not is_test_tender:\n",
    "            df = df.append(data, ignore_index=True)\n",
    "\n",
    "        driver.close()\n",
    "        driver.switch_to.window(main_window)\n",
    "\n",
    "    if next_page():\n",
    "        next_page().click()\n",
    "    else:\n",
    "        break"
   ]
  },
  {
   "cell_type": "code",
   "execution_count": null,
   "id": "d68aec0c",
   "metadata": {},
   "outputs": [],
   "source": [
    "print(df.columns)\n",
    "df"
   ]
  },
  {
   "cell_type": "code",
   "execution_count": null,
   "id": "cfbafc70",
   "metadata": {},
   "outputs": [],
   "source": [
    "# df.to_excel('bihar_tenders.xlsx')"
   ]
  },
  {
   "cell_type": "code",
   "execution_count": null,
   "id": "2ad09765",
   "metadata": {},
   "outputs": [],
   "source": []
  },
  {
   "cell_type": "code",
   "execution_count": null,
   "id": "f47aa995",
   "metadata": {},
   "outputs": [],
   "source": []
  }
 ],
 "metadata": {
  "kernelspec": {
   "display_name": "Python 3",
   "language": "python",
   "name": "python3"
  },
  "language_info": {
   "codemirror_mode": {
    "name": "ipython",
    "version": 3
   },
   "file_extension": ".py",
   "mimetype": "text/x-python",
   "name": "python",
   "nbconvert_exporter": "python",
   "pygments_lexer": "ipython3",
   "version": "3.9.6"
  }
 },
 "nbformat": 4,
 "nbformat_minor": 5
}
